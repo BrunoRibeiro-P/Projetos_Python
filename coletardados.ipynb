{
 "cells": [
  {
   "cell_type": "code",
   "execution_count": 94,
   "id": "98c885c4",
   "metadata": {},
   "outputs": [
    {
     "name": "stdout",
     "output_type": "stream",
     "text": [
      "\n",
      "            X-Men Fênix Negra [Blu-Ray]\n",
      "           \n",
      "\n",
      "                39\n",
      "                \n",
      "                 ,\n",
      "                \n",
      "\n",
      "\n",
      "                90\n",
      "               \n"
     ]
    }
   ],
   "source": [
    "from bs4 import BeautifulSoup\n",
    "import requests\n",
    "import time\n",
    "import datetime\n",
    "\n",
    "URL = 'https://www.amazon.com.br/Blu-Ray-Michael-Fassbender-Jennifer-Lawrence/dp/B08F37SRS7/ref=pd_sim_sccl_3_2/141-2023716-2554254?pd_rd_i=B08F37SRS7&psc=1'\n",
    "\n",
    "headers = {\"User-Agent\": \"Mozilla/5.0 (Windows NT 10.0; Win64; x64) AppleWebKit/537.36 (KHTML, like Gecko) Chrome/119.0.0.0 Safari/537.36\"}\n",
    "\n",
    "page = requests.get(URL, headers=headers)\n",
    "\n",
    "soup1 = BeautifulSoup(page.content, 'html.parser')\n",
    "\n",
    "soup2 = BeautifulSoup(soup1.prettify(), 'html.parser')\n",
    "\n",
    "title = soup2.find(id=\"productTitle\").get_text()\n",
    "#price = soup.find(\"span\", attrs={'class':'a-box a-last'})\n",
    "price = soup2.find(\"span\", attrs={\"class\":'a-price aok-align-center reinventPricePriceToPayMargin priceToPay'}).find(\"span\", attrs={\"class\": \"a-price-whole\"}).text\n",
    "price2= soup2.find(\"span\", attrs={\"class\":'a-price aok-align-center reinventPricePriceToPayMargin priceToPay'}).find(\"span\", attrs={\"class\": \"a-price-fraction\"}).text\n",
    "#print(title)\n",
    "\n",
    "print(title)\n",
    "print(price)\n",
    "print(price2)"
   ]
  },
  {
   "cell_type": "code",
   "execution_count": null,
   "id": "0f40e269",
   "metadata": {},
   "outputs": [],
   "source": []
  }
 ],
 "metadata": {
  "kernelspec": {
   "display_name": "Python 3",
   "language": "python",
   "name": "python3"
  },
  "language_info": {
   "codemirror_mode": {
    "name": "ipython",
    "version": 3
   },
   "file_extension": ".py",
   "mimetype": "text/x-python",
   "name": "python",
   "nbconvert_exporter": "python",
   "pygments_lexer": "ipython3",
   "version": "3.8.8"
  }
 },
 "nbformat": 4,
 "nbformat_minor": 5
}
